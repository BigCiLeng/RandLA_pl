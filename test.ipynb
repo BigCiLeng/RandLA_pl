{
 "cells": [
  {
   "cell_type": "code",
   "execution_count": null,
   "metadata": {},
   "outputs": [],
   "source": [
    "import pickle, time, warnings\n",
    "import numpy as np\n",
    "\n",
    "import torch\n",
    "from torch.utils.data import Dataset, IterableDataset, DataLoader, Sampler, BatchSampler\n",
    "\n",
    "from plyfile import PlyData"
   ]
  },
  {
   "cell_type": "code",
   "execution_count": null,
   "metadata": {},
   "outputs": [],
   "source": [
    "with open('/share/dataset/sqn_own/semantic3d/train/birdfountain_station1_xyz_intensity_rgb.ply', 'rb') as f:\n",
    "    plydata = PlyData.read(f)\n"
   ]
  },
  {
   "cell_type": "code",
   "execution_count": null,
   "metadata": {},
   "outputs": [],
   "source": [
    "points = plydata['vertex'].data"
   ]
  },
  {
   "cell_type": "code",
   "execution_count": null,
   "metadata": {},
   "outputs": [],
   "source": [
    "print(points)\n",
    "print(plydata)"
   ]
  },
  {
   "cell_type": "code",
   "execution_count": 3,
   "metadata": {},
   "outputs": [
    {
     "ename": "TypeError",
     "evalue": "Type subscription requires python >= 3.9",
     "output_type": "error",
     "traceback": [
      "\u001b[0;31m---------------------------------------------------------------------------\u001b[0m",
      "\u001b[0;31mTypeError\u001b[0m                                 Traceback (most recent call last)",
      "Cell \u001b[0;32mIn[3], line 2\u001b[0m\n\u001b[1;32m      1\u001b[0m \u001b[39mimport\u001b[39;00m \u001b[39mnumpy\u001b[39;00m \u001b[39mas\u001b[39;00m \u001b[39mnp\u001b[39;00m\n\u001b[0;32m----> 2\u001b[0m a \u001b[39m=\u001b[39m np\u001b[39m.\u001b[39;49mmemmap[(\u001b[39m1\u001b[39;49m,\u001b[39m2\u001b[39;49m,\u001b[39m3\u001b[39;49m),(\u001b[39m1\u001b[39;49m,\u001b[39m2\u001b[39;49m,\u001b[39m3\u001b[39;49m)]\n\u001b[1;32m      3\u001b[0m b \u001b[39m=\u001b[39m np\u001b[39m.\u001b[39marray(a)\n\u001b[1;32m      4\u001b[0m b\n",
      "\u001b[0;31mTypeError\u001b[0m: Type subscription requires python >= 3.9"
     ]
    }
   ],
   "source": [
    "import numpy as np\n",
    "a = np.memmap[(1,2,3),(1,2,3)]\n",
    "b = np.array(a)\n",
    "b"
   ]
  }
 ],
 "metadata": {
  "kernelspec": {
   "display_name": "SQN",
   "language": "python",
   "name": "python3"
  },
  "language_info": {
   "codemirror_mode": {
    "name": "ipython",
    "version": 3
   },
   "file_extension": ".py",
   "mimetype": "text/x-python",
   "name": "python",
   "nbconvert_exporter": "python",
   "pygments_lexer": "ipython3",
   "version": "3.8.16"
  },
  "orig_nbformat": 4,
  "vscode": {
   "interpreter": {
    "hash": "fc02daeeecbc997333cd38b88e77dfc09c865ab67a2df32b15b3818f1e960cd6"
   }
  }
 },
 "nbformat": 4,
 "nbformat_minor": 2
}
